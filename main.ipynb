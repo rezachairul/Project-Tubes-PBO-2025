{
 "cells": [
  {
   "cell_type": "code",
   "execution_count": null,
   "id": "9347a40a",
   "metadata": {},
   "outputs": [],
   "source": [
    "# === IMPORT LIBRARY ===\n",
    "import sys         # Untuk keluar dari game, contoh: sys.exit()\n",
    "import random      # Untuk angka atau pemilihan acak, misal spawn musuh/peluru\n",
    "import time        # Untuk delay (jika dibutuhkan)\n",
    "import pygame      # Library utama untuk membuat game\n",
    "from pygame.locals import *  # Import konstanta pygame seperti QUIT, KEYDOWN, dll"
   ]
  }
 ],
 "metadata": {
  "kernelspec": {
   "display_name": "base",
   "language": "python",
   "name": "python3"
  },
  "language_info": {
   "codemirror_mode": {
    "name": "ipython",
    "version": 3
   },
   "file_extension": ".py",
   "mimetype": "text/x-python",
   "name": "python",
   "nbconvert_exporter": "python",
   "pygments_lexer": "ipython3",
   "version": "3.12.9"
  }
 },
 "nbformat": 4,
 "nbformat_minor": 5
}
